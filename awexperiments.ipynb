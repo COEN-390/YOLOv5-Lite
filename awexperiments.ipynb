{
 "cells": [
  {
   "cell_type": "code",
   "execution_count": 14,
   "metadata": {},
   "outputs": [],
   "source": [
    "import time\n",
    "from appwrite.client import Client\n",
    "from appwrite.services.database import Database"
   ]
  },
  {
   "cell_type": "code",
   "execution_count": 15,
   "metadata": {},
   "outputs": [],
   "source": [
    "client = Client()\n",
    "(client\n",
    ".set_endpoint(\"https://appwrite.orpine.net/v1\") # Your API Endpoint\n",
    ".set_project(\"6137a2ef0d4f5\") # Your project ID\n",
    ".set_key(\"6dee49d861f5d443d04065e321522967182b1c65e75cffcf3905e37ebb927e87e7c2a540385b561e3b3df91fcc775749275dc7922f480389b5d2712a25abb667f1a0595c4107685e0bf8d3be22364228c9b0725c0f60d3ffc4b0ef9decd10ce4fb50b574d76d6bc3f56a38393ab505b15bae29aa260511ee5078434117f7df23\") # Your secret API key\n",
    ")\n",
    "database = Database(client)"
   ]
  },
  {
   "cell_type": "code",
   "execution_count": 34,
   "metadata": {},
   "outputs": [
    {
     "name": "stdout",
     "output_type": "stream",
     "text": [
      "{'sum': 1, 'documents': [{'$id': '618d87d0cd8d8', '$collection': '61896dfa87e44', '$permissions': {'read': [], 'write': []}, 'deviceId': 'test', 'organizationId': 'testOrg', 'healthTimestamp': 1636665557.3256}]}\n",
      "618d87d0cd8d8\n",
      "{'$id': '618d87d0cd8d8', '$collection': '61896dfa87e44', '$permissions': {'read': [], 'write': []}, 'deviceId': 'test', 'organizationId': 'testOrg', 'healthTimestamp': 1636665557.3256}\n"
     ]
    }
   ],
   "source": [
    "device_id = \"test\"\n",
    "organization_id = \"testOrg\"\n",
    "result = database.list_documents('61896dfa87e44', filters=['deviceId={}'.format(device_id), 'organizationId={}'.format(organization_id)])\n",
    "print(result)\n",
    "\n",
    "if (not result[\"documents\"]):\n",
    "    result = database.create_document('61896dfa87e44', {'deviceId': device_id, 'organizationId': organization_id, 'healthTimestamp': time.time()})\n",
    "else:\n",
    "    document_id = result[\"documents\"][0][\"$id\"]\n",
    "    print(document_id)\n",
    "    document = database.get_document('61896dfa87e44', document_id)\n",
    "    print(document)\n",
    "    result = database.update_document('61896dfa87e44', document_id, {'deviceId': document[\"deviceId\"], 'organizationId': document[\"organizationId\"], 'healthTimestamp': time.time()})"
   ]
  }
 ],
 "metadata": {
  "interpreter": {
   "hash": "31d57ab4147017da28c36a7f3913b10d53a083dc513a8553de3c8c7089f2eaad"
  },
  "kernelspec": {
   "display_name": "Python 3.8.12 64-bit ('tf3': conda)",
   "language": "python",
   "name": "python3"
  },
  "language_info": {
   "codemirror_mode": {
    "name": "ipython",
    "version": 3
   },
   "file_extension": ".py",
   "mimetype": "text/x-python",
   "name": "python",
   "nbconvert_exporter": "python",
   "pygments_lexer": "ipython3",
   "version": "3.8.12"
  },
  "orig_nbformat": 4
 },
 "nbformat": 4,
 "nbformat_minor": 2
}
